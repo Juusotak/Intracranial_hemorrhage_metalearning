{
  "cells": [
    {
      "cell_type": "code",
      "execution_count": 1,
      "metadata": {
        "gather": {
          "logged": 1695011455526
        },
        "jupyter": {
          "outputs_hidden": false,
          "source_hidden": false
        },
        "nteract": {
          "transient": {
            "deleting": false
          }
        }
      },
      "outputs": [],
      "source": [
        "from azureml.core import Workspace\n",
        "from azureml.core import Experiment\n",
        "from azureml.core import Environment\n",
        "from azureml.core import ScriptRunConfig\n",
        "from azureml.core import Dataset\n",
        "from azureml.core.compute import ComputeTarget, AmlCompute\n",
        "from azureml.core.compute_target import ComputeTargetException\n",
        "from azureml.core import Workspace, Dataset, Datastore\n",
        "from azureml.core import Dataset\n",
        "from azureml.data.dataset_consumption_config import DatasetConsumptionConfig\n",
        "from azureml.core.runconfig import TensorflowConfiguration\n",
        "import os\n",
        "\n",
        "subscription_id = ### Fill the needed credential\n",
        "resource_group =  ### Fill the needed credential\n",
        "workspace_name = ### Fill the needed credential\n",
        "  \n",
        "ws = Workspace(subscription_id, resource_group, workspace_name)\n",
        "  \n",
        "datastore = Datastore.get(ws, \"research\")\n",
        "dataset = Dataset.File.from_files(path=(datastore, 'Juuso files/ensamble_training_data')) # The location of the training data\n",
        "\n",
        "\n",
        "experiment = Experiment(workspace=ws, name='re_train_ensemble_2')\n",
        "\n",
        "\n",
        "dataset_input = DatasetConsumptionConfig('input',dataset).as_mount()"
      ]
    },
    {
      "cell_type": "code",
      "execution_count": 2,
      "metadata": {
        "gather": {
          "logged": 1695011471853
        },
        "jupyter": {
          "outputs_hidden": false,
          "source_hidden": false
        },
        "nteract": {
          "transient": {
            "deleting": false
          }
        }
      },
      "outputs": [],
      "source": [
        "# Arguments for training\n",
        "\n",
        "learning_rate = 0.003 #(at start)\n",
        "epochs = 100\n",
        "batch_size = 64\n",
        "source_directory='./src' #directory where the script is found\n",
        "script='train.py'\n",
        "\n",
        "env_name= 'metamodel_training_env' \n",
        "\n",
        "# env_name= 'hus-env2' \n",
        "env = Environment.get(workspace = ws, name=env_name)\n",
        "\n"
      ]
    },
    {
      "cell_type": "code",
      "execution_count": 3,
      "metadata": {
        "gather": {
          "logged": 1695011483560
        },
        "jupyter": {
          "outputs_hidden": false,
          "source_hidden": false
        },
        "nteract": {
          "transient": {
            "deleting": false
          }
        }
      },
      "outputs": [],
      "source": [
        "#run job\n",
        "\n",
        "config = ScriptRunConfig(source_directory=source_directory,\n",
        "                         script=script,\n",
        "                        arguments = ['--dataset_input',dataset_input,\n",
        "                                    '--learning_rate',learning_rate,\n",
        "                                    '--batch_size',batch_size,\n",
        "                                    '--epochs',epochs\n",
        "                                    ],\n",
        "                        compute_target='V100-low-priority',\n",
        "                        environment = env,\n",
        "                        )\n",
        "\n",
        "run = experiment.submit(config)\n",
        "run.display_name = ### Fill the name for the training run\n"
      ]
    }
  ],
  "metadata": {
    "kernel_info": {
      "name": "python310-sdkv2"
    },
    "kernelspec": {
      "display_name": "Python 3.10 - SDK v2",
      "language": "python",
      "name": "python310-sdkv2"
    },
    "language_info": {
      "codemirror_mode": {
        "name": "ipython",
        "version": 3
      },
      "file_extension": ".py",
      "mimetype": "text/x-python",
      "name": "python",
      "nbconvert_exporter": "python",
      "pygments_lexer": "ipython3",
      "version": "3.10.11"
    },
    "microsoft": {
      "host": {
        "AzureML": {
          "notebookHasBeenCompleted": true
        }
      },
      "ms_spell_check": {
        "ms_spell_check_language": "en"
      }
    },
    "nteract": {
      "version": "nteract-front-end@1.0.0"
    }
  },
  "nbformat": 4,
  "nbformat_minor": 2
}
