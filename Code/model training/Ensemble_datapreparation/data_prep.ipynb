{
  "cells": [
    {
      "cell_type": "code",
      "execution_count": null,
      "id": "f12a1951",
      "metadata": {
        "gather": {
          "logged": 1672426784014
        }
      },
      "outputs": [],
      "source": [
        "import nibabel as nib\n",
        "import numpy as np\n",
        "import os\n",
        "import combo\n",
        "import matplotlib.pyplot as plt\n",
        "import cv2\n",
        "import rotate\n",
        "from tqdm import tqdm"
      ]
    },
    {
      "cell_type": "code",
      "execution_count": null,
      "id": "8be5b708",
      "metadata": {
        "gather": {
          "logged": 1672427178078
        }
      },
      "outputs": [],
      "source": [
        "for i in range(len(patients)):\n",
        "    if 'img_prepared.npy' in os.listdir('data/'+patients[i]) and 'seg_prepared.npy' in os.listdir('data/'+patients[i]):\n",
        "        print('skipping folder')\n",
        "\n",
        "    else:\n",
        "        image = nib.load('data/'+patients[i]+'/'+'Image.nii')\n",
        "        image = np.array(image.dataobj)\n",
        "        image = np.rollaxis(image,2,0)\n",
        "        image = np.expand_dims(image,3)\n",
        "        empty = []\n",
        "        if image[0].shape == (512,512,1):\n",
        "            print('shape is correct')\n",
        "        else:\n",
        "            print('RESIZING')\n",
        "            for a in range(len(image)):\n",
        "                x = image[a,:,:,0].astype(np.float32)\n",
        "                x = cv2.resize(x,(512,512))\n",
        "                x = np.expand_dims(x,2)\n",
        "                empty.append(np.expand_dims(x,0))\n",
        "            image = np.concatenate(empty)\n",
        "        image = rotate.rotate(image)\n",
        "        pred = combo.predict(image)\n",
        "        pred = pred.astype(np.float16)\n",
        "        np.save('data/'+patients[i]+'/'+'img_prepared.npy', pred)\n",
        "        \n",
        "        ich = nib.load('data/'+patients[i]+'/'+'ICH.nii')\n",
        "        ich = np.array(ich.dataobj)\n",
        "        ich = np.rollaxis(ich,2,0)\n",
        "        ich = np.expand_dims(ich,3)\n",
        "        empty = []\n",
        "        if ich[0].shape == (512,512,1):\n",
        "            print('shape is correct')\n",
        "        else:\n",
        "            print('RESIZING')\n",
        "            for a in range(len(ich)):\n",
        "                x = ich[a,:,:,0].astype(np.float32)\n",
        "                x = cv2.resize(x,(512,512))\n",
        "                x = np.expand_dims(x,2)\n",
        "                empty.append(np.expand_dims(x,0))\n",
        "            ich = np.concatenate(empty)\n",
        "        \n",
        "        \n",
        "        ivh = nib.load('data/'+patients[i]+'/'+'IVH.nii')\n",
        "        ivh = np.array(ivh.dataobj)\n",
        "        ivh = np.rollaxis(ivh,2,0)\n",
        "        ivh = np.expand_dims(ivh,3)\n",
        "        empty = []\n",
        "        if ivh[0].shape == (512,512,1):\n",
        "            print('shape is correct')\n",
        "        else:\n",
        "            print('RESIZING')\n",
        "            for a in range(len(ivh)):\n",
        "                x = ivh[a,:,:,0].astype(np.float32)\n",
        "                x = cv2.resize(x,(512,512))\n",
        "                x = np.expand_dims(x,2)\n",
        "                empty.append(np.expand_dims(x,0))\n",
        "            ivh = np.concatenate(empty)\n",
        "        \n",
        "        sah = nib.load('data/'+patients[i]+'/'+'SAH.nii')\n",
        "        sah = np.array(sah.dataobj)\n",
        "        sah = np.rollaxis(sah,2,0)\n",
        "        sah = np.expand_dims(sah,3)\n",
        "        empty = []\n",
        "        if sah[0].shape == (512,512,1):\n",
        "            print('shape is correct')\n",
        "        else:\n",
        "            print('RESIZING')\n",
        "            for a in range(len(sah)):\n",
        "                x = sah[a,:,:,0].astype(np.float32)\n",
        "                x = cv2.resize(x,(512,512))\n",
        "                x = np.expand_dims(x,2)\n",
        "                empty.append(np.expand_dims(x,0))\n",
        "            sah = np.concatenate(empty)\n",
        "        \n",
        "        combined = np.concatenate((ich,ivh,sah),axis=3)\n",
        "        combined = rotate.rotate(combined)\n",
        "        combined = combined.astype(np.bool_)\n",
        "        np.save('data/'+patients[i]+'/'+'seg_prepared.npy', combined)"
      ]
    },
    {
      "cell_type": "code",
      "execution_count": null,
      "id": "e54467b0",
      "metadata": {
        "gather": {
          "logged": 1672427978334
        }
      },
      "outputs": [],
      "source": [
        "images = []\n",
        "segs = []\n",
        "\n",
        "for i in range(len(patients)):\n",
        "    image = np.load('data/'+patients[i]+'/'+'img_prepared_2.npy')\n",
        "    seg = np.load('data/'+patients[i]+'/'+'seg_prepared_2.npy')\n",
        "    \n",
        "    images.append(image)\n",
        "    segs.append(seg)\n",
        "    \n",
        "    print(image.shape)\n",
        "    print(seg.shape)\n",
        "    "
      ]
    },
    {
      "cell_type": "code",
      "execution_count": null,
      "id": "50dbbbdd",
      "metadata": {
        "gather": {
          "logged": 1672427991318
        }
      },
      "outputs": [],
      "source": [
        "x = np.concatenate(images)\n",
        "print(x.shape) \n",
        "y = np.concatenate(segs) \n",
        "print(y.shape)"
      ]
    },
    {
      "cell_type": "code",
      "execution_count": 7,
      "id": "dcdd4098",
      "metadata": {
        "gather": {
          "logged": 1672428218850
        }
      },
      "outputs": [],
      "source": [
        "np.save('all_img.npy',x)\n",
        "np.save('all_seg.npy',y)"
      ]
    }
  ],
  "metadata": {
    "kernel_info": {
      "name": "python38-azureml-pt-tf"
    },
    "kernelspec": {
      "display_name": "Python 3.8 - Pytorch and Tensorflow",
      "language": "python",
      "name": "python38-azureml-pt-tf"
    },
    "language_info": {
      "codemirror_mode": {
        "name": "ipython",
        "version": 3
      },
      "file_extension": ".py",
      "mimetype": "text/x-python",
      "name": "python",
      "nbconvert_exporter": "python",
      "pygments_lexer": "ipython3",
      "version": "3.8.5"
    },
    "microsoft": {
      "host": {
        "AzureML": {
          "notebookHasBeenCompleted": true
        }
      }
    },
    "nteract": {
      "version": "nteract-front-end@1.0.0"
    }
  },
  "nbformat": 4,
  "nbformat_minor": 5
}
